{
 "cells": [
  {
   "cell_type": "markdown",
   "metadata": {},
   "source": [
    "# PS for July 7\n",
    "\n",
    "#### Basic Assumptions:\n",
    "\n",
    "1. You are running Python version 3.x+\n",
    "2. Pip , Jupyter, Conda (optional) packages have been installed\n",
    "3. Since this is a Jupyter NB, you may code right below.\n",
    "\n",
    "## Topic 1: Corner Detection\n",
    "\n",
    "#### 1. Implement the Kanade-Tomasi/Shi-Tomasi Corner Detector.\n",
    "\n",
    "We'll follow the below steps:\n",
    "\n",
    "a)** Sobel Gradient**\n",
    "\n",
    "Compute a horizontal $ Ix $ and a vertical gradient image $ Iy $ using the Sobel filter masks.\n",
    "\n",
    "b) **Structure Tensor**\n",
    "Compute the structure tensor $ A(x, y) $ for each image point of an area of n × n:\n",
    "                           \n",
    "\n",
    "$$ A(x,y)= \\sum\\limits_{u=-n/2}^\\frac{n}{2} \\sum\\limits_{v=-n/2}^\\frac{n}{2}\\left[ {\\begin{array}{cc}\n",
    "   Ix(x + u, y + v)^2 & Ix(x + u, y + v)Iy(x + u, y + v) \\\\\n",
    "   Ix(x + u, y + v)Iy(x + u, y + v) & Iy(x + u, y + v)^2 \\\\\n",
    "  \\end{array} } \\right] $$\n",
    "\t(for brevity, the sum involves two indices, and over  2*2 matrices)\n",
    "\n",
    "\n",
    "\n",
    "c)\t** Kanade-Tomasi/Shi-Tomasi Corner Detection **  \n",
    "\tCompute the eigenvalues $ λ1 $ and $ λ2 $ of $ A(x, y) $.   \n",
    "\tMark (x, y) in the original image (use a circle or cross) if $ min(λ1, λ2) > tc $\n",
    "\t, where tc is the threshold for corner detection.\n",
    "\n",
    "Put all corner candidates with $ λ1>threshold $ in a list. \n",
    "  Sort it by $ λ1 $. Go through the list and remove all candidates in an m×m neighborhood from the list. Then remove the current value from the list and continue until the list is empty\n",
    "    \n"
   ]
  },
  {
   "cell_type": "markdown",
   "metadata": {},
   "source": [
    "#### 2. Compare the results to OpenCv's corner detection algorithm. \n",
    "\n",
    "OpenCV uses the Harris corner detection algorithm. Shi-Tomasi works much better in cases where Harris fails.\n",
    "\n",
    "While Shi-Tomasi uses minimum eigenvalue, Harris uses a R score to determine corners.\n",
    "\n",
    "$ R = \\det{A} - \\alpha* trace(A)^2 $\n",
    "\n",
    "The point with maximum R score within a mxm neighbourhood is declared a corner.\n",
    "\n",
    "Harris tends to detect corners quite close to each other as compared to Shi-Tomasi.\n",
    "\n",
    "Another method, Brown corner algorithm, uses $$ \\frac{det(A)}{trace(A)} $$"
   ]
  },
  {
   "cell_type": "markdown",
   "metadata": {},
   "source": [
    "### Resources\n",
    "\n",
    "1. http://www.cs.ucf.edu/~mtappen/cap5415/lecs/lec5.pdf\n",
    "2. \n"
   ]
  },
  {
   "cell_type": "code",
   "execution_count": 13,
   "metadata": {
    "collapsed": true
   },
   "outputs": [],
   "source": [
    "import cv2\n",
    "import numpy as np\n",
    "from numpy.linalg  import eig,svd\n",
    "import matplotlib.pyplot as plt"
   ]
  },
  {
   "cell_type": "code",
   "execution_count": 18,
   "metadata": {},
   "outputs": [
    {
     "name": "stdout",
     "output_type": "stream",
     "text": [
      "[[ 0.47983683  0.87735775]\n",
      " [ 0.87735775 -0.47983683]]\n",
      "[ 926653.2332341   856416.14888812]\n",
      "[[ 0.47983683  0.87735775]\n",
      " [ 0.87735775 -0.47983683]]\n",
      "(array([ 856416.14888812,  926653.2332341 ]), array([[-0.87735775, -0.47983683],\n",
      "       [ 0.47983683, -0.87735775]]))\n"
     ]
    }
   ],
   "source": [
    "img = cv2.imread(\"field.jpg\" )\n",
    "gray = cv2.cvtColor(img, cv2.COLOR_BGR2GRAY)\n",
    "\n",
    "r,c = gray.shape\n",
    "\n",
    "Ix = cv2.Sobel(gray, cv2.CV_64F , 1,0 ,ksize=5)\n",
    "Iy = cv2.Sobel(gray, cv2.CV_64F, 0,1, ksize=5)\n",
    "\n",
    "Ix_sqr = np.square(Ix)\n",
    "Iy_sqr = np.square(Iy)\n",
    "Ix_Iy = np.multiply(Ix,Iy)\n",
    "\n",
    "# computing structural tensor: A\n",
    "\n",
    "A  = np.array( [[ Ix_sqr.sum() , Ix_Iy.sum() ] , [ Ix_Iy.sum() , Iy_sqr.sum() ]] )\n",
    "A = np.divide(A,r*c)\n"
   ]
  },
  {
   "cell_type": "code",
   "execution_count": null,
   "metadata": {
    "collapsed": true
   },
   "outputs": [],
   "source": [
    "# cv2.waitKey(0)\n",
    "cv2.destroyAllWindows()"
   ]
  }
 ],
 "metadata": {
  "kernelspec": {
   "display_name": "Python 3",
   "language": "python",
   "name": "python3"
  },
  "language_info": {
   "codemirror_mode": {
    "name": "ipython",
    "version": 3
   },
   "file_extension": ".py",
   "mimetype": "text/x-python",
   "name": "python",
   "nbconvert_exporter": "python",
   "pygments_lexer": "ipython3",
   "version": "3.5.3+"
  }
 },
 "nbformat": 4,
 "nbformat_minor": 2
}
